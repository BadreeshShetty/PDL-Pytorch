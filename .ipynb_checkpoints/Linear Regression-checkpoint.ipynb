{
 "cells": [
  {
   "cell_type": "code",
   "execution_count": 1,
   "metadata": {},
   "outputs": [],
   "source": [
    "import torch\n",
    "import torch.nn as nn\n",
    "from torch.autograd import Variable\n",
    "import numpy as np"
   ]
  },
  {
   "cell_type": "code",
   "execution_count": 2,
   "metadata": {},
   "outputs": [],
   "source": [
    "x_values = [i for i in range(11)]\n",
    "x_train = np.array(x_values, dtype=np.float32)\n",
    "x_train = x_train.reshape(-1, 1)"
   ]
  },
  {
   "cell_type": "code",
   "execution_count": 3,
   "metadata": {},
   "outputs": [],
   "source": [
    "y_values = [2*i + 1 for i in x_values]\n",
    "y_train = np.array(y_values, dtype=np.float32)\n",
    "y_train = y_train.reshape(-1, 1)"
   ]
  },
  {
   "cell_type": "markdown",
   "metadata": {},
   "source": [
    "## Linear Regression Model"
   ]
  },
  {
   "cell_type": "code",
   "execution_count": 4,
   "metadata": {},
   "outputs": [],
   "source": [
    "class LinearRegressionModel(nn.Module):\n",
    "    def __init__(self, input_dim, output_dim):\n",
    "        super(LinearRegressionModel, self).__init__()\n",
    "        self.linear = nn.Linear(input_dim, output_dim)  \n",
    "    \n",
    "    def forward(self, x):\n",
    "        out = self.linear(x)\n",
    "        return out"
   ]
  },
  {
   "cell_type": "code",
   "execution_count": 5,
   "metadata": {},
   "outputs": [],
   "source": [
    "input_dim = 1\n",
    "output_dim = 1\n",
    "\n",
    "model = LinearRegressionModel(input_dim, output_dim)\n",
    "\n",
    "# For GPU\n",
    "model.cuda()\n",
    "\n",
    "# Loss\n",
    "criterion = nn.MSELoss()\n",
    "\n",
    "# Optimizer\n",
    "learning_rate = 0.01\n",
    "\n",
    "optimizer = torch.optim.SGD(model.parameters(), lr=learning_rate)"
   ]
  },
  {
   "cell_type": "markdown",
   "metadata": {},
   "source": [
    "## Training Model"
   ]
  },
  {
   "cell_type": "code",
   "execution_count": 6,
   "metadata": {},
   "outputs": [
    {
     "name": "stdout",
     "output_type": "stream",
     "text": [
      "epoch 1, loss 83.8351821899414\n",
      "epoch 2, loss 6.843769550323486\n",
      "epoch 3, loss 0.5637590885162354\n",
      "epoch 4, loss 0.05145634338259697\n",
      "epoch 5, loss 0.009608449414372444\n",
      "epoch 6, loss 0.006134627386927605\n",
      "epoch 7, loss 0.005791515111923218\n",
      "epoch 8, loss 0.005704424809664488\n",
      "epoch 9, loss 0.005638887174427509\n",
      "epoch 10, loss 0.005575787276029587\n",
      "epoch 11, loss 0.005513519514352083\n",
      "epoch 12, loss 0.005451956298202276\n",
      "epoch 13, loss 0.005391058977693319\n",
      "epoch 14, loss 0.005330852698534727\n",
      "epoch 15, loss 0.005271346308290958\n",
      "epoch 16, loss 0.005212460178881884\n",
      "epoch 17, loss 0.005154249258339405\n",
      "epoch 18, loss 0.0050966995768249035\n",
      "epoch 19, loss 0.005039781332015991\n",
      "epoch 20, loss 0.0049835131503641605\n",
      "epoch 21, loss 0.004927865695208311\n",
      "epoch 22, loss 0.004872825928032398\n",
      "epoch 23, loss 0.004818409215658903\n",
      "epoch 24, loss 0.004764617886394262\n",
      "epoch 25, loss 0.004711401183158159\n",
      "epoch 26, loss 0.0046587917022407055\n",
      "epoch 27, loss 0.004606766626238823\n",
      "epoch 28, loss 0.0045553226955235004\n",
      "epoch 29, loss 0.0045044636353850365\n",
      "epoch 30, loss 0.004454153124243021\n",
      "epoch 31, loss 0.004404411185532808\n",
      "epoch 32, loss 0.0043552410788834095\n",
      "epoch 33, loss 0.004306588787585497\n",
      "epoch 34, loss 0.004258519969880581\n",
      "epoch 35, loss 0.004210953135043383\n",
      "epoch 36, loss 0.004163918551057577\n",
      "epoch 37, loss 0.004117448348551989\n",
      "epoch 38, loss 0.004071430303156376\n",
      "epoch 39, loss 0.004025980364531279\n",
      "epoch 40, loss 0.003981028217822313\n",
      "epoch 41, loss 0.003936565946787596\n",
      "epoch 42, loss 0.0038925930857658386\n",
      "epoch 43, loss 0.003849128494039178\n",
      "epoch 44, loss 0.003806154476478696\n",
      "epoch 45, loss 0.0037636570632457733\n",
      "epoch 46, loss 0.003721627639606595\n",
      "epoch 47, loss 0.003680060850456357\n",
      "epoch 48, loss 0.003638970199972391\n",
      "epoch 49, loss 0.0035983435809612274\n",
      "epoch 50, loss 0.003558175405487418\n",
      "epoch 51, loss 0.003518416080623865\n",
      "epoch 52, loss 0.003479121718555689\n",
      "epoch 53, loss 0.003440274391323328\n",
      "epoch 54, loss 0.003401867114007473\n",
      "epoch 55, loss 0.003363874740898609\n",
      "epoch 56, loss 0.003326321253553033\n",
      "epoch 57, loss 0.0032891607843339443\n",
      "epoch 58, loss 0.0032524450216442347\n",
      "epoch 59, loss 0.0032161162234842777\n",
      "epoch 60, loss 0.0031801993027329445\n",
      "epoch 61, loss 0.003144684247672558\n",
      "epoch 62, loss 0.003109560813754797\n",
      "epoch 63, loss 0.003074836917221546\n",
      "epoch 64, loss 0.0030405083671212196\n",
      "epoch 65, loss 0.0030065542086958885\n",
      "epoch 66, loss 0.002972973743453622\n",
      "epoch 67, loss 0.0029397779144346714\n",
      "epoch 68, loss 0.00290695927105844\n",
      "epoch 69, loss 0.0028745040763169527\n",
      "epoch 70, loss 0.0028424053452908993\n",
      "epoch 71, loss 0.0028106491081416607\n",
      "epoch 72, loss 0.0027792593464255333\n",
      "epoch 73, loss 0.0027482369914650917\n",
      "epoch 74, loss 0.0027175338473170996\n",
      "epoch 75, loss 0.0026872013695538044\n",
      "epoch 76, loss 0.002657183213159442\n",
      "epoch 77, loss 0.0026275082491338253\n",
      "epoch 78, loss 0.0025981739163398743\n",
      "epoch 79, loss 0.0025691664777696133\n",
      "epoch 80, loss 0.002540447749197483\n",
      "epoch 81, loss 0.002512097591534257\n",
      "epoch 82, loss 0.0024840293917804956\n",
      "epoch 83, loss 0.0024563053157180548\n",
      "epoch 84, loss 0.0024288685526698828\n",
      "epoch 85, loss 0.002401747740805149\n",
      "epoch 86, loss 0.002374916570261121\n",
      "epoch 87, loss 0.002348404610529542\n",
      "epoch 88, loss 0.002322183921933174\n",
      "epoch 89, loss 0.0022962382063269615\n",
      "epoch 90, loss 0.002270619384944439\n",
      "epoch 91, loss 0.0022452601697295904\n",
      "epoch 92, loss 0.00222018756903708\n",
      "epoch 93, loss 0.002195386216044426\n",
      "epoch 94, loss 0.0021708759013563395\n",
      "epoch 95, loss 0.0021466310136020184\n",
      "epoch 96, loss 0.002122660633176565\n",
      "epoch 97, loss 0.0020989617332816124\n",
      "epoch 98, loss 0.0020755184814333916\n",
      "epoch 99, loss 0.0020523397251963615\n",
      "epoch 100, loss 0.0020294189453125\n"
     ]
    }
   ],
   "source": [
    "epochs = 100\n",
    "for epoch in range(epochs):\n",
    "    epoch += 1\n",
    "    # Convert numpy array to torch Variable\n",
    "    # For GPU\n",
    "    inputs = Variable(torch.from_numpy(x_train).cuda())\n",
    "        \n",
    "    # For GPU\n",
    "    labels = Variable(torch.from_numpy(y_train).cuda())\n",
    "        \n",
    "    # Clear gradients w.r.t. parameters\n",
    "    optimizer.zero_grad() \n",
    "    \n",
    "    # Forward to get output\n",
    "    outputs = model(inputs)\n",
    "    \n",
    "    # Calculate Loss\n",
    "    loss = criterion(outputs, labels)\n",
    "    \n",
    "    # Getting gradients w.r.t. parameters\n",
    "    loss.backward()\n",
    "    \n",
    "    # Updating parameters\n",
    "    optimizer.step()\n",
    "    s\n",
    "    print('epoch {}, loss {}'.format(epoch, loss.data))"
   ]
  }
 ],
 "metadata": {
  "kernelspec": {
   "display_name": "Python 3",
   "language": "python",
   "name": "python3"
  },
  "language_info": {
   "codemirror_mode": {
    "name": "ipython",
    "version": 3
   },
   "file_extension": ".py",
   "mimetype": "text/x-python",
   "name": "python",
   "nbconvert_exporter": "python",
   "pygments_lexer": "ipython3",
   "version": "3.6.6"
  }
 },
 "nbformat": 4,
 "nbformat_minor": 2
}
